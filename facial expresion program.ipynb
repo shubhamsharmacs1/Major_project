{
 "cells": [
  {
   "cell_type": "code",
   "execution_count": 1,
   "id": "c6f645ad",
   "metadata": {},
   "outputs": [],
   "source": [
    "import cv2\n",
    "from sklearn.model_selection import train_test_split\n",
    "import numpy as np\n",
    "import matplotlib.pyplot as plt\n",
    "import warnings\n",
    "import os\n",
    "from tqdm.notebook import tqdm\n",
    "warnings.filterwarnings(\"ignore\")\n",
    "%matplotlib inline\n",
    "import tensorflow as tf\n",
    "from tensorflow import keras\n",
    "from tensorflow.keras import layers\n",
    "from tensorflow.keras.utils import plot_model\n",
    "from PIL import Image\n",
    "import pandas as pd\n",
    "from tensorflow.keras.preprocessing.image import ImageDataGenerator"
   ]
  },
  {
   "cell_type": "markdown",
   "id": "4d8db92a",
   "metadata": {},
   "source": [
    "# training images"
   ]
  },
  {
   "cell_type": "code",
   "execution_count": 2,
   "id": "605310e3",
   "metadata": {},
   "outputs": [
    {
     "data": {
      "application/vnd.jupyter.widget-view+json": {
       "model_id": "7da02aeee564425c864226c96642337d",
       "version_major": 2,
       "version_minor": 0
      },
      "text/plain": [
       "  0%|          | 0/7 [00:00<?, ?it/s]"
      ]
     },
     "metadata": {},
     "output_type": "display_data"
    }
   ],
   "source": [
    "data_folder = 'images/train'  \n",
    "image_size = (48,48)  \n",
    "subfolders = [f.path for f in os.scandir(data_folder) if f.is_dir()]\n",
    "image_train=[]\n",
    "train_label = [] \n",
    "for subfolder in tqdm(subfolders):\n",
    "    label = os.path.basename(subfolder)  \n",
    "    for file in os.listdir(subfolder):\n",
    "        file_path = os.path.join(subfolder, file)\n",
    "        image = cv2.imread(file_path)\n",
    "        image = cv2.resize(image, image_size)\n",
    "        image = cv2.cvtColor(image, cv2.COLOR_BGR2GRAY)\n",
    "        image_train.append(image)\n",
    "        train_label.append(label)\n",
    "image_train=np.array(image_train)\n",
    "train_label=np.array(train_label)"
   ]
  },
  {
   "cell_type": "markdown",
   "id": "6a6e3ac2",
   "metadata": {},
   "source": [
    "# validation images"
   ]
  },
  {
   "cell_type": "code",
   "execution_count": 3,
   "id": "535c730c",
   "metadata": {},
   "outputs": [
    {
     "ename": "FileNotFoundError",
     "evalue": "[WinError 3] The system cannot find the path specified: 'images/validation'",
     "output_type": "error",
     "traceback": [
      "\u001b[1;31m---------------------------------------------------------------------------\u001b[0m",
      "\u001b[1;31mFileNotFoundError\u001b[0m                         Traceback (most recent call last)",
      "Cell \u001b[1;32mIn[3], line 3\u001b[0m\n\u001b[0;32m      1\u001b[0m data_folder \u001b[38;5;241m=\u001b[39m \u001b[38;5;124m'\u001b[39m\u001b[38;5;124mimages/validation\u001b[39m\u001b[38;5;124m'\u001b[39m  \n\u001b[0;32m      2\u001b[0m image_size \u001b[38;5;241m=\u001b[39m (\u001b[38;5;241m48\u001b[39m,\u001b[38;5;241m48\u001b[39m)  \n\u001b[1;32m----> 3\u001b[0m subfolders \u001b[38;5;241m=\u001b[39m [f\u001b[38;5;241m.\u001b[39mpath \u001b[38;5;28;01mfor\u001b[39;00m f \u001b[38;5;129;01min\u001b[39;00m \u001b[43mos\u001b[49m\u001b[38;5;241;43m.\u001b[39;49m\u001b[43mscandir\u001b[49m\u001b[43m(\u001b[49m\u001b[43mdata_folder\u001b[49m\u001b[43m)\u001b[49m \u001b[38;5;28;01mif\u001b[39;00m f\u001b[38;5;241m.\u001b[39mis_dir()]\n\u001b[0;32m      4\u001b[0m image_val\u001b[38;5;241m=\u001b[39m[]\n\u001b[0;32m      5\u001b[0m val_label \u001b[38;5;241m=\u001b[39m [] \n",
      "\u001b[1;31mFileNotFoundError\u001b[0m: [WinError 3] The system cannot find the path specified: 'images/validation'"
     ]
    }
   ],
   "source": [
    "data_folder = 'images/validation'  \n",
    "image_size = (48,48)  \n",
    "subfolders = [f.path for f in os.scandir(data_folder) if f.is_dir()]\n",
    "image_val=[]\n",
    "val_label = [] \n",
    "for subfolder in tqdm(subfolders):\n",
    "    label = os.path.basename(subfolder)  \n",
    "    for file in os.listdir(subfolder):\n",
    "        file_path = os.path.join(subfolder, file)\n",
    "        image = cv2.imread(file_path)\n",
    "        image = cv2.resize(image, image_size)\n",
    "        image = cv2.cvtColor(image, cv2.COLOR_BGR2GRAY)\n",
    "        image_val.append(image)\n",
    "        val_label.append(label)\n",
    "image_val=np.array(image_val)\n",
    "val_label=np.array(val_label)"
   ]
  },
  {
   "cell_type": "code",
   "execution_count": 4,
   "id": "5d6b761f",
   "metadata": {},
   "outputs": [
    {
     "data": {
      "text/plain": [
       "(25783, 48, 48)"
      ]
     },
     "execution_count": 4,
     "metadata": {},
     "output_type": "execute_result"
    }
   ],
   "source": [
    "image_train.shape"
   ]
  },
  {
   "cell_type": "code",
   "execution_count": 6,
   "id": "0983db64",
   "metadata": {},
   "outputs": [
    {
     "data": {
      "text/plain": [
       "(7066, 48, 48)"
      ]
     },
     "execution_count": 6,
     "metadata": {},
     "output_type": "execute_result"
    }
   ],
   "source": [
    "image_val.shape"
   ]
  },
  {
   "cell_type": "code",
   "execution_count": 7,
   "id": "0189d212",
   "metadata": {
    "scrolled": true
   },
   "outputs": [
    {
     "data": {
      "text/plain": [
       "array([[152, 149, 147, ..., 129, 139, 121],\n",
       "       [149, 152, 150, ..., 121, 146, 135],\n",
       "       [152, 152, 157, ..., 112, 121, 145],\n",
       "       ...,\n",
       "       [187, 189, 120, ..., 184, 185, 188],\n",
       "       [188, 189, 193, ..., 185, 181, 189],\n",
       "       [186, 185, 183, ..., 193, 181, 183]], dtype=uint8)"
      ]
     },
     "execution_count": 7,
     "metadata": {},
     "output_type": "execute_result"
    }
   ],
   "source": [
    "image_train[1]"
   ]
  },
  {
   "cell_type": "code",
   "execution_count": 8,
   "id": "b603a1a8",
   "metadata": {},
   "outputs": [
    {
     "data": {
      "text/plain": [
       "(48, 48)"
      ]
     },
     "execution_count": 8,
     "metadata": {},
     "output_type": "execute_result"
    }
   ],
   "source": [
    "image_train[3].shape"
   ]
  },
  {
   "cell_type": "code",
   "execution_count": 9,
   "id": "0062d0f0",
   "metadata": {
    "scrolled": false
   },
   "outputs": [
    {
     "data": {
      "text/plain": [
       "(array(['angry', 'disgust', 'fear', 'happy', 'neutral', 'sad', 'surprise'],\n",
       "       dtype='<U8'),\n",
       " array([3993,  436, 4103, 7164, 4982, 4938,  167], dtype=int64))"
      ]
     },
     "execution_count": 9,
     "metadata": {},
     "output_type": "execute_result"
    }
   ],
   "source": [
    "np.unique(train_label,return_counts=True)"
   ]
  },
  {
   "cell_type": "code",
   "execution_count": 10,
   "id": "71dccc2e",
   "metadata": {},
   "outputs": [
    {
     "ename": "NameError",
     "evalue": "name 'val_label' is not defined",
     "output_type": "error",
     "traceback": [
      "\u001b[1;31m---------------------------------------------------------------------------\u001b[0m",
      "\u001b[1;31mNameError\u001b[0m                                 Traceback (most recent call last)",
      "Cell \u001b[1;32mIn[10], line 1\u001b[0m\n\u001b[1;32m----> 1\u001b[0m np\u001b[38;5;241m.\u001b[39munique(\u001b[43mval_label\u001b[49m,return_counts\u001b[38;5;241m=\u001b[39m\u001b[38;5;28;01mTrue\u001b[39;00m)\n",
      "\u001b[1;31mNameError\u001b[0m: name 'val_label' is not defined"
     ]
    }
   ],
   "source": [
    "np.unique(val_label,return_counts=True)"
   ]
  },
  {
   "cell_type": "code",
   "execution_count": 13,
   "id": "1f78c440",
   "metadata": {},
   "outputs": [
    {
     "data": {
      "image/png": "[encoded data removed]",
      "text/plain": [
       "<Figure size 1000x400 with 4 Axes>"
      ]
     },
     "metadata": {},
     "output_type": "display_data"
    }
   ],
   "source": [
    "plt.figure(figsize=(10,4))\n",
    "for i in range(1,5):\n",
    "    plt.subplot(1,4,i)\n",
    "    index=np.random.randint(image_train.shape[0],size=1)[0]\n",
    "    plt.imshow(image_train[index])\n",
    "    plt.title(train_label[index])"
   ]
  },
  {
   "cell_type": "code",
   "execution_count": 11,
   "id": "88b1471b",
   "metadata": {},
   "outputs": [],
   "source": [
    "image_train = image_train.astype('float32')\n",
    "image_train /= 255.0\n",
    "image_val = image_val.astype('float32')\n",
    "image_val /= 255.0"
   ]
  },
  {
   "cell_type": "code",
   "execution_count": 10,
   "id": "23b5cc63",
   "metadata": {},
   "outputs": [
    {
     "data": {
      "text/plain": [
       "array([[ 35,  32,  26, ...,  52,  59,  63],\n",
       "       [ 30,  29,  27, ...,  51,  58,  63],\n",
       "       [ 22,  25,  29, ...,  49,  58,  63],\n",
       "       ...,\n",
       "       [209, 184, 143, ..., 114, 138, 153],\n",
       "       [145, 129, 103, ..., 103, 126, 141],\n",
       "       [106,  95,  78, ...,  96, 119, 134]], dtype=uint8)"
      ]
     },
     "execution_count": 10,
     "metadata": {},
     "output_type": "execute_result"
    }
   ],
   "source": [
    "image_train[6]"
   ]
  },
  {
   "cell_type": "code",
   "execution_count": 13,
   "id": "de59ae59",
   "metadata": {},
   "outputs": [],
   "source": [
    "label_df_train=pd.DataFrame(train_label)\n",
    "label_df_val=pd.DataFrame(val_label)"
   ]
  },
  {
   "cell_type": "code",
   "execution_count": 14,
   "id": "43e390ac",
   "metadata": {},
   "outputs": [],
   "source": [
    "label_df_train=pd.get_dummies(label_df_train,dtype=\"int\")\n",
    "label_df_val=pd.get_dummies(label_df_val,dtype=\"int\")"
   ]
  },
  {
   "cell_type": "code",
   "execution_count": 15,
   "id": "892ee71c",
   "metadata": {},
   "outputs": [
    {
     "data": {
      "text/html": [
       "<div>\n",
       "<style scoped>\n",
       "    .dataframe tbody tr th:only-of-type {\n",
       "        vertical-align: middle;\n",
       "    }\n",
       "\n",
       "    .dataframe tbody tr th {\n",
       "        vertical-align: top;\n",
       "    }\n",
       "\n",
       "    .dataframe thead th {\n",
       "        text-align: right;\n",
       "    }\n",
       "</style>\n",
       "<table border=\"1\" class=\"dataframe\">\n",
       "  <thead>\n",
       "    <tr style=\"text-align: right;\">\n",
       "      <th></th>\n",
       "      <th>0_angry</th>\n",
       "      <th>0_disgust</th>\n",
       "      <th>0_fear</th>\n",
       "      <th>0_happy</th>\n",
       "      <th>0_neutral</th>\n",
       "      <th>0_sad</th>\n",
       "      <th>0_surprise</th>\n",
       "    </tr>\n",
       "  </thead>\n",
       "  <tbody>\n",
       "    <tr>\n",
       "      <th>3855</th>\n",
       "      <td>0</td>\n",
       "      <td>0</td>\n",
       "      <td>0</td>\n",
       "      <td>1</td>\n",
       "      <td>0</td>\n",
       "      <td>0</td>\n",
       "      <td>0</td>\n",
       "    </tr>\n",
       "    <tr>\n",
       "      <th>1665</th>\n",
       "      <td>0</td>\n",
       "      <td>0</td>\n",
       "      <td>1</td>\n",
       "      <td>0</td>\n",
       "      <td>0</td>\n",
       "      <td>0</td>\n",
       "      <td>0</td>\n",
       "    </tr>\n",
       "    <tr>\n",
       "      <th>6874</th>\n",
       "      <td>0</td>\n",
       "      <td>0</td>\n",
       "      <td>0</td>\n",
       "      <td>0</td>\n",
       "      <td>0</td>\n",
       "      <td>0</td>\n",
       "      <td>1</td>\n",
       "    </tr>\n",
       "    <tr>\n",
       "      <th>1349</th>\n",
       "      <td>0</td>\n",
       "      <td>0</td>\n",
       "      <td>1</td>\n",
       "      <td>0</td>\n",
       "      <td>0</td>\n",
       "      <td>0</td>\n",
       "      <td>0</td>\n",
       "    </tr>\n",
       "    <tr>\n",
       "      <th>5591</th>\n",
       "      <td>0</td>\n",
       "      <td>0</td>\n",
       "      <td>0</td>\n",
       "      <td>0</td>\n",
       "      <td>0</td>\n",
       "      <td>1</td>\n",
       "      <td>0</td>\n",
       "    </tr>\n",
       "  </tbody>\n",
       "</table>\n",
       "</div>"
      ],
      "text/plain": [
       "      0_angry  0_disgust  0_fear  0_happy  0_neutral  0_sad  0_surprise\n",
       "3855        0          0       0        1          0      0           0\n",
       "1665        0          0       1        0          0      0           0\n",
       "6874        0          0       0        0          0      0           1\n",
       "1349        0          0       1        0          0      0           0\n",
       "5591        0          0       0        0          0      1           0"
      ]
     },
     "execution_count": 15,
     "metadata": {},
     "output_type": "execute_result"
    }
   ],
   "source": [
    "label_df_val.sample(5)"
   ]
  },
  {
   "cell_type": "code",
   "execution_count": 16,
   "id": "8c241df3",
   "metadata": {},
   "outputs": [
    {
     "data": {
      "text/plain": [
       "((28821, 84, 84), (28821, 7))"
      ]
     },
     "execution_count": 16,
     "metadata": {},
     "output_type": "execute_result"
    }
   ],
   "source": [
    "image_train.shape,label_df_train.shape"
   ]
  },
  {
   "cell_type": "code",
   "execution_count": 19,
   "id": "6d91d418",
   "metadata": {},
   "outputs": [
    {
     "data": {
      "text/plain": [
       "((25938, 84, 84), (25938, 7))"
      ]
     },
     "execution_count": 19,
     "metadata": {},
     "output_type": "execute_result"
    }
   ],
   "source": [
    "image_train.shape,label_df_train.shape"
   ]
  },
  {
   "cell_type": "markdown",
   "id": "d71631d5",
   "metadata": {},
   "source": [
    "# model creation"
   ]
  },
  {
   "cell_type": "code",
   "execution_count": 14,
   "id": "0aa64b64",
   "metadata": {},
   "outputs": [],
   "source": [
    "model = keras.Sequential([\n",
    "    layers.Conv2D(32, (3, 3), activation='relu', input_shape=(84,84, 1)),\n",
    "    layers.MaxPooling2D((2, 2)),\n",
    "    layers.Conv2D(64, (3, 3), activation='relu'),\n",
    "    layers.MaxPooling2D((2, 2)),\n",
    "    layers.Conv2D(128, (3, 3), activation='relu'),\n",
    "    layers.MaxPooling2D((2, 2)),\n",
    "    layers.Flatten(),\n",
    "    layers.Dense(128, activation='relu'),\n",
    "    layers.Dropout(0.5),\n",
    "    layers.Dense(7, activation='softmax')  \n",
    "])\n",
    "model.compile(optimizer='adam',\n",
    "              loss='categorical_crossentropy', \n",
    "              metrics=['accuracy'])"
   ]
  },
  {
   "cell_type": "code",
   "execution_count": 23,
   "id": "f31b5922",
   "metadata": {},
   "outputs": [
    {
     "name": "stdout",
     "output_type": "stream",
     "text": [
      "Model: \"sequential_1\"\n",
      "_________________________________________________________________\n",
      " Layer (type)                Output Shape              Param #   \n",
      "=================================================================\n",
      " conv2d_3 (Conv2D)           (None, 82, 82, 32)        320       \n",
      "                                                                 \n",
      " max_pooling2d_3 (MaxPooling  (None, 41, 41, 32)       0         \n",
      " 2D)                                                             \n",
      "                                                                 \n",
      " conv2d_4 (Conv2D)           (None, 39, 39, 64)        18496     \n",
      "                                                                 \n",
      " max_pooling2d_4 (MaxPooling  (None, 19, 19, 64)       0         \n",
      " 2D)                                                             \n",
      "                                                                 \n",
      " conv2d_5 (Conv2D)           (None, 17, 17, 128)       73856     \n",
      "                                                                 \n",
      " max_pooling2d_5 (MaxPooling  (None, 8, 8, 128)        0         \n",
      " 2D)                                                             \n",
      "                                                                 \n",
      " flatten_1 (Flatten)         (None, 8192)              0         \n",
      "                                                                 \n",
      " dense_2 (Dense)             (None, 128)               1048704   \n",
      "                                                                 \n",
      " dropout_1 (Dropout)         (None, 128)               0         \n",
      "                                                                 \n",
      " dense_3 (Dense)             (None, 7)                 903       \n",
      "                                                                 \n",
      "=================================================================\n",
      "Total params: 1,142,279\n",
      "Trainable params: 1,142,279\n",
      "Non-trainable params: 0\n",
      "_________________________________________________________________\n"
     ]
    }
   ],
   "source": [
    "model.summary()"
   ]
  },
  {
   "cell_type": "code",
   "execution_count": 24,
   "id": "e53cd8db",
   "metadata": {},
   "outputs": [
    {
     "name": "stdout",
     "output_type": "stream",
     "text": [
      "Epoch 1/8\n",
      "406/406 [==============================] - 286s 692ms/step - loss: 1.7510 - accuracy: 0.2905 - val_loss: 1.5775 - val_accuracy: 0.3903\n",
      "Epoch 2/8\n",
      "406/406 [==============================] - 304s 750ms/step - loss: 1.5557 - accuracy: 0.3935 - val_loss: 1.4242 - val_accuracy: 0.4566\n",
      "Epoch 3/8\n",
      "406/406 [==============================] - 244s 601ms/step - loss: 1.4372 - accuracy: 0.4422 - val_loss: 1.3654 - val_accuracy: 0.4863\n",
      "Epoch 4/8\n",
      "406/406 [==============================] - 293s 721ms/step - loss: 1.3603 - accuracy: 0.4797 - val_loss: 1.2982 - val_accuracy: 0.5106\n",
      "Epoch 5/8\n",
      "406/406 [==============================] - 314s 774ms/step - loss: 1.3035 - accuracy: 0.5001 - val_loss: 1.2666 - val_accuracy: 0.5175\n",
      "Epoch 6/8\n",
      "406/406 [==============================] - 317s 780ms/step - loss: 1.2515 - accuracy: 0.5246 - val_loss: 1.2490 - val_accuracy: 0.5253\n",
      "Epoch 7/8\n",
      "406/406 [==============================] - 310s 764ms/step - loss: 1.1952 - accuracy: 0.5425 - val_loss: 1.2476 - val_accuracy: 0.5311\n",
      "Epoch 8/8\n",
      "406/406 [==============================] - 340s 838ms/step - loss: 1.1602 - accuracy: 0.5541 - val_loss: 1.2264 - val_accuracy: 0.5395\n"
     ]
    }
   ],
   "source": [
    "# Training the model  the model\n",
    "history=model.fit(image_train,label_df_train, epochs=8, batch_size=64, validation_data=(image_val,label_df_val))"
   ]
  },
  {
   "cell_type": "code",
   "execution_count": 25,
   "id": "6515f2d2",
   "metadata": {},
   "outputs": [
    {
     "name": "stdout",
     "output_type": "stream",
     "text": [
      "91/91 [==============================] - 9s 97ms/step - loss: 1.2228 - accuracy: 0.5331\n",
      "Test accuracy: 53.31%\n",
      "91/91 [==============================] - 11s 110ms/step\n"
     ]
    }
   ],
   "source": [
    "\n",
    "test_loss, test_acc = model.evaluate(image_test, label_test)\n",
    "print(f'Test accuracy: {test_acc * 100:.2f}%')\n",
    "\n",
    "# Make predictions using the trained model\n",
    "predictions = model.predict(image_test)"
   ]
  },
  {
   "cell_type": "code",
   "execution_count": 38,
   "id": "992686d2",
   "metadata": {},
   "outputs": [],
   "source": [
    "predsoft=np.argmax(predictions,axis=1)"
   ]
  },
  {
   "cell_type": "code",
   "execution_count": 35,
   "id": "75735ec4",
   "metadata": {},
   "outputs": [],
   "source": [
    "pred_dict={0:\"Angry\",1:\"Disgust\",2:\"Fear\",3:\"Happy\",4:\"Normal\",5:\"Sad\",6:\"suprise\"}"
   ]
  },
  {
   "cell_type": "code",
   "execution_count": 5,
   "id": "a85e6e33",
   "metadata": {},
   "outputs": [
    {
     "ename": "SyntaxError",
     "evalue": "invalid syntax (1631680538.py, line 7)",
     "output_type": "error",
     "traceback": [
      "\u001b[1;36m  Cell \u001b[1;32mIn[5], line 7\u001b[1;36m\u001b[0m\n\u001b[1;33m    plt.plot(train_loss, label='Training Loss')Z\u001b[0m\n\u001b[1;37m                                               ^\u001b[0m\n\u001b[1;31mSyntaxError\u001b[0m\u001b[1;31m:\u001b[0m invalid syntax\n"
     ]
    }
   ],
   "source": [
    "train_acc=history.history[\"accuracy\"]\n",
    "train_loss=history.history[\"loss\"]\n",
    "val_loss=history.history[\"val_loss\"]\n",
    "val_acc=history.history[\"val_accuracy\"]\n",
    "plt.figure(figsize=(12, 5))\n",
    "plt.subplot(1, 2, 1)\n",
    "plt.plot(train_loss, label='Training Loss')Z\n",
    "plt.plot(val_loss, label='Validation Loss')\n",
    "plt.title('Model Loss')\n",
    "plt.xlabel('Epoch')\n",
    "plt.ylabel('Loss')\n",
    "plt.legend()\n",
    "\n",
    "# Plot training & validation accuracy values\n",
    "plt.subplot(1, 2, 2)\n",
    "plt.plot(train_acc, label='Training Accuracy')\n",
    "plt.plot(val_acc, label='Validation Accuracy')\n",
    "plt.title('Model Accuracy')\n",
    "plt.xlabel('Epoch')\n",
    "plt.ylabel('Accuracy')\n",
    "plt.legend()\n",
    "plt.show()"
   ]
  },
  {
   "cell_type": "code",
   "execution_count": 36,
   "id": "6263a15a",
   "metadata": {},
   "outputs": [],
   "source": [
    "model.save('facial_expression_model.h5')"
   ]
  },
  {
   "cell_type": "code",
   "execution_count": 42,
   "id": "ee35dd54",
   "metadata": {},
   "outputs": [],
   "source": [
    "from sklearn.metrics import accuracy_score"
   ]
  },
  {
   "cell_type": "code",
   "execution_count": 52,
   "id": "56b5c6ae",
   "metadata": {},
   "outputs": [
    {
     "data": {
      "text/plain": [
       "array([3, 5, 5, ..., 5, 2, 0], dtype=int64)"
      ]
     },
     "execution_count": 52,
     "metadata": {},
     "output_type": "execute_result"
    }
   ],
   "source": [
    "test_label=np.argmax(label_test,axis=1)\n",
    "test_label"
   ]
  },
  {
   "cell_type": "code",
   "execution_count": 54,
   "id": "c3f59163",
   "metadata": {},
   "outputs": [
    {
     "data": {
      "text/plain": [
       "0.533125216788068"
      ]
     },
     "execution_count": 54,
     "metadata": {},
     "output_type": "execute_result"
    }
   ],
   "source": [
    "accuracy_score(test_label,predsoft)"
   ]
  },
  {
   "cell_type": "code",
   "execution_count": null,
   "id": "96b2aaa7",
   "metadata": {},
   "outputs": [],
   "source": []
  }
 ],
 "metadata": {
  "kernelspec": {
   "display_name": "Python 3 (ipykernel)",
   "language": "python",
   "name": "python3"
  },
  "language_info": {
   "codemirror_mode": {
    "name": "ipython",
    "version": 3
   },
   "file_extension": ".py",
   "mimetype": "text/x-python",
   "name": "python",
   "nbconvert_exporter": "python",
   "pygments_lexer": "ipython3",
   "version": "3.10.9"
  }
 },
 "nbformat": 4,
 "nbformat_minor": 5
}
